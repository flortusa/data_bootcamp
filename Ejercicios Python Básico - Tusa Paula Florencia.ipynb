{
  "cells": [
    {
      "cell_type": "markdown",
      "id": "a5e8e1c1",
      "metadata": {
        "id": "a5e8e1c1"
      },
      "source": [
        "![](https://i.pinimg.com/originals/73/20/2a/73202af19e27fbfac7acddeb1763e789.jpg)\n",
        "\n",
        "\n",
        "### 1.1\n",
        "Escribir un script que pregunte el nombre del usuario, luego muestre por pantalla el siguiente mensaje:\n",
        "\n",
        "¡Hola ``nombre``!, tu nombre tiene ``cantidad_de_letras`` letras\n",
        "    \n",
        "    \n",
        "- ``nombre`` es el nombre que el usuario haya introducido.\n",
        "- ``cantidad_de_letras`` es la cantidad de letras que posee ``nombre``"
      ]
    },
    {
      "cell_type": "code",
      "source": [
        "# Solicito nombre\n",
        "nombre = input ('Por favor, ingrese aquí su nombre: ')\n",
        "\n",
        "# Calculo cantidad de letras\n",
        "cantidad_de_letras = len(nombre)\n",
        "\n",
        "# Devuelvo mje\n",
        "print(f\"¡Hola {nombre}!, tu nombre tiene {cantidad_de_letras} letras\")"
      ],
      "metadata": {
        "id": "Sy66VtouJy7I",
        "colab": {
          "base_uri": "https://localhost:8080/"
        },
        "outputId": "290bf1e1-47b3-4520-ae05-c749624c9fcb"
      },
      "id": "Sy66VtouJy7I",
      "execution_count": 6,
      "outputs": [
        {
          "output_type": "stream",
          "name": "stdout",
          "text": [
            "Por favor, ingresa aquí tu nombre: Florencia\n",
            "¡Hola Florencia!, tu nombre tiene 9 letras\n"
          ]
        }
      ]
    },
    {
      "cell_type": "markdown",
      "id": "dc225348",
      "metadata": {
        "id": "dc225348"
      },
      "source": [
        "### 1.2\n",
        "Escribir un script que pregunte el nombre y apellido del usuario y después muestre el nombre completo del usuario tres veces:\n",
        "\n",
        "- una con todas las letras minúsculas\n",
        "- otra con todas las letras mayúsculas\n",
        "- otra solo con la primera letra del nombre y de los apellidos en mayúscula."
      ]
    },
    {
      "cell_type": "code",
      "source": [
        "# Solicito nombre\n",
        "nombre = input (\"Por favor, ingrese aquí su nombre: \")\n",
        "apellido = input (\"y aquí su apellido: \")\n",
        "\n",
        "# Muestro el nombre en mayuscula\n",
        "print(f\"Su nombre completo es así: {nombre.capitalize()} {apellido.capitalize()}\")\n",
        "print(f\"Su nombre completo en minúscula es: {nombre.lower()} {apellido.lower()}\")\n",
        "print(f\"Su nombre completo en mayúscula es: {nombre.upper()} {apellido.upper()}\")\n"
      ],
      "metadata": {
        "id": "xrIV6LpBJ2rO",
        "colab": {
          "base_uri": "https://localhost:8080/"
        },
        "outputId": "3e74c5a4-94bb-4c77-c1af-aef1e833168f"
      },
      "id": "xrIV6LpBJ2rO",
      "execution_count": 21,
      "outputs": [
        {
          "output_type": "stream",
          "name": "stdout",
          "text": [
            "Por favor, ingrese aquí su nombre: flore\n",
            "y aquí su apellido: lkhacs\n",
            "Su nombre completo es así: Flore Lkhacs\n",
            "Su nombre completo en minúscula es así: flore lkhacs\n",
            "Su nombre completo en mayúscula es así: FLORE LKHACS\n"
          ]
        }
      ]
    },
    {
      "cell_type": "markdown",
      "id": "d66a4f32",
      "metadata": {
        "id": "d66a4f32"
      },
      "source": [
        "### 1.3\n",
        "Se tiene un dataset cuyos numeros telefonico siguen el siguiente formato: *prefijo-número-extension*\n",
        "\n",
        "Ejemplo: +34-913724710-56\n",
        "\n",
        "- Dado un numero telefonico, se pide mostrar en consola el siguiente mensaje:\n",
        "\n",
        "Su numero de telefono es: +34-913724710-56, Prefijo: 34, Numero: 913724710 y Extension: 56*\n",
        "\n",
        "Nombre = input(\"Cual es tu nombre ? \") **Ojo: no se vale contar caracteres, ya que la longitud tanto del prefijo, numero y extension podrian variar.**"
      ]
    },
    {
      "cell_type": "code",
      "source": [
        "# Solicito nro. de teléfono\n",
        "numero_telefonico = input(\"Por favor, ingrese su número de téfono, cumpliendo el formato del siguiente ejemplo: +34-913724710-56. Ingrese su número aquí: \")\n",
        "\n",
        "# Divido el nro. de téfono en prefijo - numero - extension\n",
        "prefijo, numero, extension = numero_telefonico.split ('-')\n",
        "\n",
        "# Muestro el nro segun prefijo - numero - extension\n",
        "print(f\"Su número de teléfono es: {numero_telefonico}, Prefijo: {prefijo}, Número: {numero}, Extensión: {extension}\")"
      ],
      "metadata": {
        "colab": {
          "base_uri": "https://localhost:8080/"
        },
        "id": "_07qcjdYUtZ8",
        "outputId": "1bbd70a0-273f-4d41-c6fa-3f475b03347b"
      },
      "id": "_07qcjdYUtZ8",
      "execution_count": 20,
      "outputs": [
        {
          "output_type": "stream",
          "name": "stdout",
          "text": [
            "Por favor, ingrese su número de téfono, cumpliendo el formato del siguiente ejemplo: +34-913724710-56. Ingrese su número aquí: +34-913724710-56\n",
            "Su número de teléfono es: +34-913724710-56, Prefijo: +34, Número: 913724710, Extensión: 56\n"
          ]
        }
      ]
    },
    {
      "cell_type": "markdown",
      "id": "1c5f781e",
      "metadata": {
        "id": "1c5f781e"
      },
      "source": [
        "### 1.4\n",
        "Dada la siguiente lista de ``mails_viejos``, pasarla de forma automatizada a la de ``mails_nuevos``"
      ]
    },
    {
      "cell_type": "code",
      "execution_count": 22,
      "id": "50dc1f91",
      "metadata": {
        "id": "50dc1f91",
        "colab": {
          "base_uri": "https://localhost:8080/"
        },
        "outputId": "3ca7e077-f739-4e6d-bcc4-392ca03247f7"
      },
      "outputs": [
        {
          "output_type": "stream",
          "name": "stdout",
          "text": [
            "['Rihanna@gmail.com', 'lady_gaga@gmail.com', 'taylor_swift_red@gmail.com']\n"
          ]
        }
      ],
      "source": [
        "# Creo la variable mails viejos\n",
        "mails_viejos = ['Rihanna@hotmail.com', 'lady_gaga@hotmail.com', 'taylor_swift_red@hotmail.com']\n",
        "\n",
        "# Reemplazo hotmail por gmail, para transformarlos en mails nuevos\n",
        "mails_nuevos = [mail.replace('@hotmail.com', '@gmail.com') for mail in mails_viejos]\n",
        "\n",
        "# Muestro los nuevos correos electrónicos\n",
        "print(mails_nuevos)"
      ]
    },
    {
      "cell_type": "markdown",
      "id": "1fe46a66",
      "metadata": {
        "id": "1fe46a66"
      },
      "source": [
        "### 1.5\n",
        "Escribir un script que pregunte al usuario por la contraseña e imprima por pantalla si la contraseña introducida por el usuario coincide con la guardada en la variable **sin tener en cuenta mayúsculas y minúsculas.**"
      ]
    },
    {
      "cell_type": "code",
      "execution_count": null,
      "id": "ecbf63ed",
      "metadata": {
        "id": "ecbf63ed"
      },
      "outputs": [],
      "source": [
        "contraseña = 'BOQUITa'"
      ]
    },
    {
      "cell_type": "code",
      "source": [
        "# Contraseña del usuario\n",
        "contraseña = 'BOQUITa'\n",
        "\n",
        "# Solicito que ingrese la contraseña\n",
        "contraseña_ingresada = input('Por favor, ingrese aquí su contraseña: ')\n",
        "\n",
        "# Verifico si la contraseña coincide, sin distinguir entre mayúsculas y minúsculas (para esto, convierto amvas cadenas en minúscula antes de realizar la comparación)\n",
        "if contraseña.lower() == contraseña_ingresada.lower():\n",
        "  print('Contraseña correcta')\n",
        "else:\n",
        "        print('Contraseña incorrecta')"
      ],
      "metadata": {
        "id": "s979ppIeP6hE",
        "colab": {
          "base_uri": "https://localhost:8080/"
        },
        "outputId": "ba233a72-64b5-4918-e308-94e14fa17789"
      },
      "id": "s979ppIeP6hE",
      "execution_count": 26,
      "outputs": [
        {
          "output_type": "stream",
          "name": "stdout",
          "text": [
            "Por favor, ingrese aquí su contraseña: boquita\n",
            "Contraseña correcta\n"
          ]
        }
      ]
    },
    {
      "cell_type": "markdown",
      "id": "d9d0bf90",
      "metadata": {
        "id": "d9d0bf90"
      },
      "source": [
        "### 1.6\n",
        "Un Banco quiere etiquetar a sus clientes en funcion de su salario para poder saber si puede asignarle o no una tarjeta de crédito. Solo los clientes clase A y B pueden acceder a la tarjeta.\n",
        "\n",
        "| Salario              | Clasificación |\n",
        "|----------------------|---------------|\n",
        "| Menos de 20000       | D             |\n",
        "| Entre 20000 y 50000  | C             |\n",
        "| Entre 50000 y 100000 | B             |\n",
        "| Mas de 100000        | A             |\n",
        "\n",
        "Generar un Script que dado un salario ingresado devuelva que clasificacion tiene y si califica o no para la tarjeta"
      ]
    },
    {
      "cell_type": "code",
      "source": [
        "# Solicito salario\n",
        "salario = float(input(\"Por favor, ingrese su salario: \"))\n",
        "\n",
        "# Clasifico según su salario, y decido otorgamiento o no de tarjeta de crédito\n",
        "if salario < 20000:\n",
        "    clasificacion = 'D'\n",
        "    califica = False\n",
        "elif 20000 <= salario < 50000:\n",
        "    clasificacion = 'C'\n",
        "    califica = False\n",
        "elif 50000 <= salario < 100000:\n",
        "    clasificacion = 'B'\n",
        "    califica = True\n",
        "else:\n",
        "    clasificacion = 'A'\n",
        "    califica = True\n",
        "\n",
        "# Muestro clasificación y otorgamiento -o no- de la tarjeta de crédito\n",
        "print(f\"Clasificación: {clasificacion}\")\n",
        "if califica:\n",
        "    print(\"Estado: Califica para la tarjeta de crédito\")\n",
        "else:\n",
        "    print(\"Estado: No califica para la tarjeta de crédito\")"
      ],
      "metadata": {
        "colab": {
          "base_uri": "https://localhost:8080/"
        },
        "id": "jqQJ2B4Aal6m",
        "outputId": "045ba4a5-95c8-43aa-f6cf-535969322631"
      },
      "id": "jqQJ2B4Aal6m",
      "execution_count": 28,
      "outputs": [
        {
          "output_type": "stream",
          "name": "stdout",
          "text": [
            "Por favor, ingrese su salario: 17000\n",
            "Clasificación: D\n",
            "No califica para la tarjeta de crédito\n"
          ]
        }
      ]
    },
    {
      "cell_type": "markdown",
      "id": "252e680e",
      "metadata": {
        "id": "252e680e"
      },
      "source": [
        "### 1.7\n",
        "Mostrar en consola todos los numeros desde el 1 hasta el 1000 que sean capicua (1, 11,101,etc)"
      ]
    },
    {
      "cell_type": "code",
      "execution_count": 31,
      "id": "188cd7f7",
      "metadata": {
        "id": "188cd7f7",
        "colab": {
          "base_uri": "https://localhost:8080/"
        },
        "outputId": "77b565d7-2daa-49de-8041-b8f5041c0181"
      },
      "outputs": [
        {
          "output_type": "stream",
          "name": "stdout",
          "text": [
            "1\n",
            "2\n",
            "3\n",
            "4\n",
            "5\n",
            "6\n",
            "7\n",
            "8\n",
            "9\n",
            "11\n",
            "22\n",
            "33\n",
            "44\n",
            "55\n",
            "66\n",
            "77\n",
            "88\n",
            "99\n",
            "101\n",
            "111\n",
            "121\n",
            "131\n",
            "141\n",
            "151\n",
            "161\n",
            "171\n",
            "181\n",
            "191\n",
            "202\n",
            "212\n",
            "222\n",
            "232\n",
            "242\n",
            "252\n",
            "262\n",
            "272\n",
            "282\n",
            "292\n",
            "303\n",
            "313\n",
            "323\n",
            "333\n",
            "343\n",
            "353\n",
            "363\n",
            "373\n",
            "383\n",
            "393\n",
            "404\n",
            "414\n",
            "424\n",
            "434\n",
            "444\n",
            "454\n",
            "464\n",
            "474\n",
            "484\n",
            "494\n",
            "505\n",
            "515\n",
            "525\n",
            "535\n",
            "545\n",
            "555\n",
            "565\n",
            "575\n",
            "585\n",
            "595\n",
            "606\n",
            "616\n",
            "626\n",
            "636\n",
            "646\n",
            "656\n",
            "666\n",
            "676\n",
            "686\n",
            "696\n",
            "707\n",
            "717\n",
            "727\n",
            "737\n",
            "747\n",
            "757\n",
            "767\n",
            "777\n",
            "787\n",
            "797\n",
            "808\n",
            "818\n",
            "828\n",
            "838\n",
            "848\n",
            "858\n",
            "868\n",
            "878\n",
            "888\n",
            "898\n",
            "909\n",
            "919\n",
            "929\n",
            "939\n",
            "949\n",
            "959\n",
            "969\n",
            "979\n",
            "989\n",
            "999\n"
          ]
        }
      ],
      "source": [
        "# Hago la iteración del 1 al 1001 (porque empieza a contar desde cero)\n",
        "for num in range(1, 1001):\n",
        "\n",
        "# Chequeo que el nro. sea capicúa. Para ello, convierto el nro actual ('num') en una cadena de caracteres utilizando 'str(num)'. Luego, comparo si esta cadena es igual a su reverso('str(num)[::-1]'). Si es igual, significa que el nro. es capicúa\n",
        "    if str(num) == str(num)[::-1]:\n",
        "# Muestro el resultado:\n",
        "        print(num)"
      ]
    },
    {
      "cell_type": "markdown",
      "id": "ed9775d9",
      "metadata": {
        "id": "ed9775d9"
      },
      "source": [
        "### 1.8\n",
        "Escribir un programa que pida al usuario un número entero y muestre por pantalla un triángulo rectángulo como el de más abajo, de altura al número introducido.\n",
        "\n",
        "1\n",
        "\n",
        "3 1\n",
        "\n",
        "5 3 1\n",
        "\n",
        "7 5 3 1\n",
        "\n",
        "9 7 5 3 1"
      ]
    },
    {
      "cell_type": "code",
      "source": [
        "# Solicito un número entero al usuario\n",
        "altura = int(input(\"Por favor, ingrese un número entero para la altura del triángulo: \"))\n",
        "\n",
        "# Mostrar un triángulo rectángulo\n",
        "for i in range(altura, 0, -2):\n",
        "    print(\" \".join(map(str, range(i, 0, -2))))\n"
      ],
      "metadata": {
        "id": "CI4Ly4nhP7uw",
        "colab": {
          "base_uri": "https://localhost:8080/"
        },
        "outputId": "aaa4dbd8-398b-4340-bc21-51f4dd550534"
      },
      "id": "CI4Ly4nhP7uw",
      "execution_count": 32,
      "outputs": [
        {
          "output_type": "stream",
          "name": "stdout",
          "text": [
            "Por favor, ingrese un número entero para la altura del triángulo: 54\n",
            "54 52 50 48 46 44 42 40 38 36 34 32 30 28 26 24 22 20 18 16 14 12 10 8 6 4 2\n",
            "52 50 48 46 44 42 40 38 36 34 32 30 28 26 24 22 20 18 16 14 12 10 8 6 4 2\n",
            "50 48 46 44 42 40 38 36 34 32 30 28 26 24 22 20 18 16 14 12 10 8 6 4 2\n",
            "48 46 44 42 40 38 36 34 32 30 28 26 24 22 20 18 16 14 12 10 8 6 4 2\n",
            "46 44 42 40 38 36 34 32 30 28 26 24 22 20 18 16 14 12 10 8 6 4 2\n",
            "44 42 40 38 36 34 32 30 28 26 24 22 20 18 16 14 12 10 8 6 4 2\n",
            "42 40 38 36 34 32 30 28 26 24 22 20 18 16 14 12 10 8 6 4 2\n",
            "40 38 36 34 32 30 28 26 24 22 20 18 16 14 12 10 8 6 4 2\n",
            "38 36 34 32 30 28 26 24 22 20 18 16 14 12 10 8 6 4 2\n",
            "36 34 32 30 28 26 24 22 20 18 16 14 12 10 8 6 4 2\n",
            "34 32 30 28 26 24 22 20 18 16 14 12 10 8 6 4 2\n",
            "32 30 28 26 24 22 20 18 16 14 12 10 8 6 4 2\n",
            "30 28 26 24 22 20 18 16 14 12 10 8 6 4 2\n",
            "28 26 24 22 20 18 16 14 12 10 8 6 4 2\n",
            "26 24 22 20 18 16 14 12 10 8 6 4 2\n",
            "24 22 20 18 16 14 12 10 8 6 4 2\n",
            "22 20 18 16 14 12 10 8 6 4 2\n",
            "20 18 16 14 12 10 8 6 4 2\n",
            "18 16 14 12 10 8 6 4 2\n",
            "16 14 12 10 8 6 4 2\n",
            "14 12 10 8 6 4 2\n",
            "12 10 8 6 4 2\n",
            "10 8 6 4 2\n",
            "8 6 4 2\n",
            "6 4 2\n",
            "4 2\n",
            "2\n"
          ]
        }
      ]
    },
    {
      "cell_type": "markdown",
      "id": "afc536fd",
      "metadata": {
        "id": "afc536fd"
      },
      "source": [
        "### 1.9\n",
        "\n",
        "Escribir un script que dado un número entero positivo muestre la cuenta atrás desde ese número hasta cero separados por comas.\n"
      ]
    },
    {
      "cell_type": "code",
      "source": [
        "# Solicito un número entero\n",
        "numero = int(input(\"Por favor, ingrese un número entero positivo: \"))\n",
        "\n",
        "# Muestro la cuenta atrás desde ese número hasta cero separados por comas\n",
        "print(\", \".join(map(str, range(numero, -1, -1))))"
      ],
      "metadata": {
        "id": "geFLAWW4P8BY",
        "colab": {
          "base_uri": "https://localhost:8080/"
        },
        "outputId": "87d0bb62-1614-4a75-ea56-978a4d96ffc3"
      },
      "id": "geFLAWW4P8BY",
      "execution_count": 33,
      "outputs": [
        {
          "output_type": "stream",
          "name": "stdout",
          "text": [
            "Por favor, ingrese un número entero positivo: 6\n",
            "6, 5, 4, 3, 2, 1, 0\n"
          ]
        }
      ]
    },
    {
      "cell_type": "markdown",
      "id": "802a4a06",
      "metadata": {
        "id": "802a4a06"
      },
      "source": [
        "### 2.0\n",
        "\n",
        "Escribir un script que dado un número entero positivo muestre la cuenta atrás desde ese número hasta cero separados por comas.\n"
      ]
    },
    {
      "cell_type": "code",
      "source": [
        "# Solicito un número entero\n",
        "numero = int(input(\"Por favor, ingrese un número entero positivo: \"))\n",
        "\n",
        "# Muestro la cuenta atrás desde ese número hasta cero separados por comas\n",
        "print(\", \".join(map(str, range(numero, -1, -1))))"
      ],
      "metadata": {
        "id": "lTwn1I_7P8d0",
        "colab": {
          "base_uri": "https://localhost:8080/"
        },
        "outputId": "5e4dea73-bad0-4910-a183-6665ea7a659a"
      },
      "id": "lTwn1I_7P8d0",
      "execution_count": 34,
      "outputs": [
        {
          "output_type": "stream",
          "name": "stdout",
          "text": [
            "Por favor, ingrese un número entero positivo: 21\n",
            "21, 20, 19, 18, 17, 16, 15, 14, 13, 12, 11, 10, 9, 8, 7, 6, 5, 4, 3, 2, 1, 0\n"
          ]
        }
      ]
    },
    {
      "cell_type": "markdown",
      "id": "5926f0b2",
      "metadata": {
        "id": "5926f0b2"
      },
      "source": [
        "### 2.1\n",
        "\n",
        "Escribir un programa que almacene las asignaturas de un curso (por ejemplo Matemáticas, Física, Química, Historia y Lengua) en una lista, pregunte al usuario la nota que ha sacado en cada asignatura y elimine de la lista las asignaturas aprobadas. Al final el programa debe mostrar por pantalla las asignaturas que el usuario tiene que repetir.\n"
      ]
    },
    {
      "cell_type": "code",
      "source": [
        "# Asignaturas del curso\n",
        "asignaturas = ['Matemáticas', 'Física', 'Química', 'Historia', 'Lengua']\n",
        "\n",
        "# Pregunto la nota por cada asignatura y elimino las aprobadas, considerando que se aprueba con nota mayor que 5.50\n",
        "for asignatura in asignaturas[:]:\n",
        "    nota = float(input(f\"Ingrese la nota de {asignatura}: \"))\n",
        "    if nota > 5.5:\n",
        "        asignaturas.remove(asignatura)\n",
        "\n",
        "# Muestro las asignaturas que debe repetir\n",
        "print(\"Debes repetir las siguientes asignaturas:\", asignaturas)\n"
      ],
      "metadata": {
        "id": "-H95E4AlQkbT",
        "colab": {
          "base_uri": "https://localhost:8080/"
        },
        "outputId": "459e700b-ce4f-43f5-f315-dc5c817fb1f7"
      },
      "id": "-H95E4AlQkbT",
      "execution_count": 35,
      "outputs": [
        {
          "output_type": "stream",
          "name": "stdout",
          "text": [
            "Ingrese la nota de Matemáticas: 3\n",
            "Ingrese la nota de Física: 5.5\n",
            "Ingrese la nota de Química: 5.4\n",
            "Ingrese la nota de Historia: 9\n",
            "Ingrese la nota de Lengua: 1\n",
            "Debes repetir las siguientes asignaturas: ['Matemáticas', 'Física', 'Química', 'Lengua']\n"
          ]
        }
      ]
    },
    {
      "cell_type": "markdown",
      "id": "54eded8d",
      "metadata": {
        "id": "54eded8d"
      },
      "source": [
        "### 2.2\n",
        "\n",
        "Escribir un programa que pida al usuario una palabra y muestre por pantalla el número de veces que contiene cada vocal.\n"
      ]
    },
    {
      "cell_type": "code",
      "source": [
        "# Solicito una palabra\n",
        "palabra = input(\"Por favor, ingrese una palabra: \")\n",
        "\n",
        "# Cuento el número de veces que contiene cada vocal\n",
        "vocales = \"aeiou\"\n",
        "contador_vocales = {vocal: palabra.lower().count(vocal) for vocal in vocales}\n",
        "\n",
        "# Muestro el resultado\n",
        "print(contador_vocales)\n"
      ],
      "metadata": {
        "id": "yRwa6XSVQkto",
        "colab": {
          "base_uri": "https://localhost:8080/"
        },
        "outputId": "5a588281-7956-4360-d319-2c4315b6c2f5"
      },
      "id": "yRwa6XSVQkto",
      "execution_count": 36,
      "outputs": [
        {
          "output_type": "stream",
          "name": "stdout",
          "text": [
            "Por favor, ingrese una palabra: floreNcia\n",
            "{'a': 1, 'e': 1, 'i': 1, 'o': 1, 'u': 0}\n"
          ]
        }
      ]
    },
    {
      "cell_type": "markdown",
      "id": "5277a66c",
      "metadata": {
        "id": "5277a66c"
      },
      "source": [
        "### 2.3\n",
        "Escribir un programa que guarde en un diccionario los precios de las frutas de la tabla, pregunte al usuario por una fruta, un número de kilos y muestre por pantalla el precio de ese número de kilos de fruta. Si la fruta no está en el diccionario debe mostrar un mensaje informando de ello.\n",
        "\n",
        "| Fruta   | Precio por Kg |\n",
        "|---------|---------------|\n",
        "| Banana  | 150           |\n",
        "| Manzana | 200           |\n",
        "| Pera    | 180           |\n",
        "| Naranja | 100           |"
      ]
    },
    {
      "cell_type": "code",
      "source": [
        "# Precios de las frutas en un diccionario\n",
        "precios_frutas = {'Banana': 150, 'Manzana': 200, 'Pera': 180, 'Naranja': 100}\n",
        "\n",
        "# Solicito al usuario que indique una fruta y número de kilos\n",
        "fruta = input(\"Por favor, ingrese una fruta: \").lower().capitalize()\n",
        "kilos = float(input(f\"y la cantidad de kilos de {fruta} que desea: \"))\n",
        "\n",
        "# Calculo el precio y lo muestro\n",
        "if fruta in precios_frutas:\n",
        "    precio_total = precios_frutas[fruta] * kilos\n",
        "    print(f\"El precio de {kilos} kilos de {fruta} es: {precio_total}\")\n",
        "else:\n",
        "    print(\"La fruta ingresada no está en el diccionario\")\n"
      ],
      "metadata": {
        "id": "dvWu9s7dQlsp",
        "colab": {
          "base_uri": "https://localhost:8080/"
        },
        "outputId": "0e8ce21d-058d-4f9b-c7e2-3449232a6cf6"
      },
      "id": "dvWu9s7dQlsp",
      "execution_count": 44,
      "outputs": [
        {
          "output_type": "stream",
          "name": "stdout",
          "text": [
            "Por favor, ingrese una fruta: maNzana\n",
            "y la cantidad de kilos de Manzana que desea: 9\n",
            "El precio de 9.0 kilos de Manzana es: 1800.0\n"
          ]
        }
      ]
    },
    {
      "cell_type": "markdown",
      "id": "6769d482",
      "metadata": {
        "id": "6769d482"
      },
      "source": [
        "2.4\n",
        "\n",
        "Escribir un programa que pregunte una fecha en formato dd/mm/aaaa y muestre por pantalla la misma fecha en formato dd de <mes> de aaaa donde <mes> es el nombre del mes."
      ]
    },
    {
      "cell_type": "code",
      "execution_count": 45,
      "id": "d833a50e",
      "metadata": {
        "id": "d833a50e",
        "colab": {
          "base_uri": "https://localhost:8080/"
        },
        "outputId": "ca42a520-3298-4ea2-a01a-7b3754011999"
      },
      "outputs": [
        {
          "output_type": "stream",
          "name": "stdout",
          "text": [
            "Por favor, ingrese una fecha en formato dd/mm/aaaa: 21/1/1997\n",
            "21 de enero de 1997\n"
          ]
        }
      ],
      "source": [
        "# Solicito al usuario que ingrese una fecha en formato dd/mm/aaaa\n",
        "fecha_input = input(\"Por favor, ingrese una fecha en formato dd/mm/aaaa: \")\n",
        "\n",
        "# Divido la fecha en día, mes y año\n",
        "dia, mes, anio = fecha_input.split('/')\n",
        "\n",
        "# Muestro la fecha en formato dd de aaaa\n",
        "meses = ['enero', 'febrero', 'marzo', 'abril', 'mayo', 'junio', 'julio', 'agosto', 'septiembre', 'octubre', 'noviembre', 'diciembre']\n",
        "nombre_mes = meses[int(mes) - 1]\n",
        "\n",
        "print(f\"{dia} de {nombre_mes} de {anio}\")"
      ]
    },
    {
      "cell_type": "markdown",
      "id": "3d4b9189",
      "metadata": {
        "id": "3d4b9189"
      },
      "source": [
        "2.5\n",
        "\n",
        "Escribir una función que reciba una muestra de números en una lista y devuelva su promedio.\n"
      ]
    },
    {
      "cell_type": "code",
      "source": [
        "# Creo una función para calcular el promedio de una muestra de números\n",
        "def calcular_promedio(muestra):\n",
        "    return sum(muestra) / len(muestra)\n",
        "\n",
        "# Ejemplo de uso\n",
        "muestra_numeros = [21, 1, 1997, 26, 7]\n",
        "promedio = calcular_promedio(muestra_numeros)\n",
        "print(f\"El promedio de la muestra es: {promedio}\")\n"
      ],
      "metadata": {
        "id": "K96tduXLQmTV",
        "colab": {
          "base_uri": "https://localhost:8080/"
        },
        "outputId": "ce786298-5e70-46c5-d864-b12c46a7e47d"
      },
      "id": "K96tduXLQmTV",
      "execution_count": 56,
      "outputs": [
        {
          "output_type": "stream",
          "name": "stdout",
          "text": [
            "El promedio de la muestra es: 410.4\n"
          ]
        }
      ]
    },
    {
      "cell_type": "markdown",
      "id": "2e484008",
      "metadata": {
        "id": "2e484008"
      },
      "source": [
        "### 2.6\n",
        "\n",
        "Escribir una funcion que tome un string como parametro y devuelva el string pero en orden inversor\n"
      ]
    },
    {
      "cell_type": "code",
      "source": [
        "# Creo una función para invertir un string\n",
        "def invertir_string(cadena):\n",
        "    return cadena[::-1]\n",
        "\n",
        "# Ejemplo de uso\n",
        "cadena_original = \"Paula Florencia Tusa\"\n",
        "cadena_invertida = invertir_string(cadena_original)\n",
        "print(f\"Cadena original: {cadena_original}\")\n",
        "print(f\"Cadena invertida: {cadena_invertida}\")"
      ],
      "metadata": {
        "id": "DaCXjMEdQmqW",
        "colab": {
          "base_uri": "https://localhost:8080/"
        },
        "outputId": "ca64effd-f9f8-45de-8ce9-4d1b70b5b27f"
      },
      "id": "DaCXjMEdQmqW",
      "execution_count": 52,
      "outputs": [
        {
          "output_type": "stream",
          "name": "stdout",
          "text": [
            "Cadena original: Paula Florencia Tusa\n",
            "Cadena invertida: asuT aicnerolF aluaP\n"
          ]
        }
      ]
    },
    {
      "cell_type": "markdown",
      "id": "ae6c901f",
      "metadata": {
        "id": "ae6c901f"
      },
      "source": [
        "### 2.7\n",
        "Escribir una funcion que tome un string como parametro y devuelva la palabra mas larga en dicho string\n"
      ]
    },
    {
      "cell_type": "code",
      "execution_count": null,
      "id": "45c77612",
      "metadata": {
        "id": "45c77612"
      },
      "outputs": [],
      "source": [
        "oracion = \"Cuando era niño leí el libro del Corsario Negro, me encantó\""
      ]
    },
    {
      "cell_type": "code",
      "source": [
        "# Creo una función para encontrar la palabra más larga en una oración\n",
        "def palabra_mas_larga(oracion):\n",
        "    palabras = oracion.split()\n",
        "    palabra_larga = max(palabras, key=len)\n",
        "    return palabra_larga\n",
        "\n",
        "# Ejemplo de uso\n",
        "oracion = \"Cuando era niño leí el libro del Corsario Negro, me encantó\"\n",
        "palabra_larga = palabra_mas_larga(oracion)\n",
        "print(f\"La palabra más larga en la oración es: {palabra_larga}\")"
      ],
      "metadata": {
        "id": "GHFd4DKiQnOt",
        "colab": {
          "base_uri": "https://localhost:8080/"
        },
        "outputId": "eae2e008-17d8-43c0-a4bc-f288f4765bce"
      },
      "id": "GHFd4DKiQnOt",
      "execution_count": 49,
      "outputs": [
        {
          "output_type": "stream",
          "name": "stdout",
          "text": [
            "La palabra más larga en la oración es: Corsario\n"
          ]
        }
      ]
    },
    {
      "cell_type": "markdown",
      "id": "275d9cb9",
      "metadata": {
        "id": "275d9cb9"
      },
      "source": [
        "### 2.8\n",
        "Escribir una funcion que tome dos strings como parametros y sin importar mayusculas ni minusculas devuelva:\n",
        "- True: si son iguales\n",
        "- False: si son diferentes"
      ]
    },
    {
      "cell_type": "code",
      "source": [
        "# Creo una función para comparar dos strings, sin importar mayúsculas o minúsculas\n",
        "def comparar_strings(s1, s2):\n",
        "    return s1.lower() == s2.lower()\n",
        "\n",
        "# Ejemplo de uso\n",
        "cadena1 = \"Florencia tusa\"\n",
        "cadena2 = \"FLorencia TUSA\"\n",
        "resultado = comparar_strings(cadena1, cadena2)\n",
        "print(f\"Las cadenas son iguales: {resultado}\")"
      ],
      "metadata": {
        "id": "wCuvSHMrQoNo",
        "colab": {
          "base_uri": "https://localhost:8080/"
        },
        "outputId": "550a58ab-e2f0-4489-89a9-6cd5dd343c9b"
      },
      "id": "wCuvSHMrQoNo",
      "execution_count": 58,
      "outputs": [
        {
          "output_type": "stream",
          "name": "stdout",
          "text": [
            "Las cadenas son iguales: True\n"
          ]
        }
      ]
    },
    {
      "cell_type": "markdown",
      "id": "6e2dc662",
      "metadata": {
        "id": "6e2dc662"
      },
      "source": [
        "### 2.9\n",
        "Escribir una funcion que dado una lista de numeros devuelva la multiplicacion de todos ellos\n"
      ]
    },
    {
      "cell_type": "code",
      "source": [
        "# Creo una función para multiplicar todos los números en una lista\n",
        "def multiplicar_numeros(lista):\n",
        "    resultado = 1\n",
        "    for num in lista:\n",
        "        resultado *= num\n",
        "    return resultado\n",
        "\n",
        "# Ejemplo de uso\n",
        "numeros = [21, 1, 26]\n",
        "resultado_multiplicacion = multiplicar_numeros(numeros)\n",
        "print(f\"El resultado de la multiplicación es: {resultado_multiplicacion}\")\n"
      ],
      "metadata": {
        "id": "HClZGFXuQotn",
        "colab": {
          "base_uri": "https://localhost:8080/"
        },
        "outputId": "995e6b0e-d105-4d29-fdba-5bcac9aa10b9"
      },
      "id": "HClZGFXuQotn",
      "execution_count": 60,
      "outputs": [
        {
          "output_type": "stream",
          "name": "stdout",
          "text": [
            "El resultado de la multiplicación es: 546\n"
          ]
        }
      ]
    },
    {
      "cell_type": "markdown",
      "id": "6585e0d5",
      "metadata": {
        "id": "6585e0d5"
      },
      "source": [
        "### 3.0\n",
        "Escribir un programa que reciba una cadena de caracteres y devuelva un diccionario con cada palabra que contiene y su frecuencia.\n"
      ]
    },
    {
      "cell_type": "code",
      "execution_count": null,
      "id": "2661b6a0",
      "metadata": {
        "id": "2661b6a0"
      },
      "outputs": [],
      "source": [
        "frase = \"Cuando era niño leí el libro del Corsario Negro y me encantó. Al principio no sabia mucho de piratas pero despues de leer el libro empece a entender como era la vida de los piratas\""
      ]
    },
    {
      "cell_type": "code",
      "source": [
        "# Creo una función para contar la frecuencia de cada palabra en una cadena\n",
        "def contar_frecuencia_palabras(cadena):\n",
        "    palabras = cadena.split()\n",
        "    frecuencia = {}\n",
        "    for palabra in palabras:\n",
        "        frecuencia[palabra] = frecuencia.get(palabra, 0) + 1\n",
        "    return frecuencia\n",
        "\n",
        "# Ejemplo de uso\n",
        "frase = \"Cuando era niño leí el libro del Corsario Negro y me encantó. Al principio no sabia mucho de piratas pero despues de leer el libro empece a entender como era la vida de los piratas\"\n",
        "frecuencia_palabras = contar_frecuencia_palabras(frase)\n",
        "print(\"Frecuencia de palabras:\")\n",
        "for palabra, frecuencia in frecuencia_palabras.items():\n",
        "    print(f\"{palabra}: {frecuencia}\")"
      ],
      "metadata": {
        "id": "QdDznRGUQpO-",
        "colab": {
          "base_uri": "https://localhost:8080/"
        },
        "outputId": "ff728940-31d1-4051-b346-0e7388eb4d07"
      },
      "id": "QdDznRGUQpO-",
      "execution_count": 61,
      "outputs": [
        {
          "output_type": "stream",
          "name": "stdout",
          "text": [
            "Frecuencia de palabras:\n",
            "Cuando: 1\n",
            "era: 2\n",
            "niño: 1\n",
            "leí: 1\n",
            "el: 2\n",
            "libro: 2\n",
            "del: 1\n",
            "Corsario: 1\n",
            "Negro: 1\n",
            "y: 1\n",
            "me: 1\n",
            "encantó.: 1\n",
            "Al: 1\n",
            "principio: 1\n",
            "no: 1\n",
            "sabia: 1\n",
            "mucho: 1\n",
            "de: 3\n",
            "piratas: 2\n",
            "pero: 1\n",
            "despues: 1\n",
            "leer: 1\n",
            "empece: 1\n",
            "a: 1\n",
            "entender: 1\n",
            "como: 1\n",
            "la: 1\n",
            "vida: 1\n",
            "los: 1\n"
          ]
        }
      ]
    },
    {
      "cell_type": "markdown",
      "id": "a8a520af",
      "metadata": {
        "id": "a8a520af"
      },
      "source": [
        "## Depuración de errores\n",
        "\n",
        "En cada ejercicio corré el codigo, analizá el error en consola y corregilo"
      ]
    },
    {
      "cell_type": "markdown",
      "id": "ba287984",
      "metadata": {
        "id": "ba287984"
      },
      "source": [
        "### 3.1"
      ]
    },
    {
      "cell_type": "code",
      "execution_count": 62,
      "id": "6633235f",
      "metadata": {
        "id": "6633235f",
        "outputId": "37d8a88a-f262-4e96-8476-a6e3d87bb530",
        "colab": {
          "base_uri": "https://localhost:8080/",
          "height": 141
        }
      },
      "outputs": [
        {
          "output_type": "error",
          "ename": "SyntaxError",
          "evalue": "ignored",
          "traceback": [
            "\u001b[0;36m  File \u001b[0;32m\"<ipython-input-62-30430b55f604>\"\u001b[0;36m, line \u001b[0;32m1\u001b[0m\n\u001b[0;31m    contraseña = input('Introduce la contraseña: \")\u001b[0m\n\u001b[0m                       ^\u001b[0m\n\u001b[0;31mSyntaxError\u001b[0m\u001b[0;31m:\u001b[0m unterminated string literal (detected at line 1)\n"
          ]
        }
      ],
      "source": [
        "contraseña = input('Introduce la contraseña: \")\n",
        "if contraseña in ['sesamo'):\n",
        "  print('Pasa')\n",
        "else\n",
        "  print('No pasa')"
      ]
    },
    {
      "cell_type": "code",
      "source": [
        "# Corrección de errores en la comparación de cadenas, mal uso de corchetes al emplear IF\n",
        "contraseña = input('Introduce la contraseña: ')\n",
        "if contraseña in ['sesamo']:\n",
        "    print('Pasa')\n",
        "else:\n",
        "    print('No pasa')"
      ],
      "metadata": {
        "id": "thfv2XsVRdF9",
        "colab": {
          "base_uri": "https://localhost:8080/"
        },
        "outputId": "70075a0c-2898-4d08-8c17-74a4195aff29"
      },
      "id": "thfv2XsVRdF9",
      "execution_count": 64,
      "outputs": [
        {
          "output_type": "stream",
          "name": "stdout",
          "text": [
            "Introduce la contraseña: sesamo\n",
            "Pasa\n"
          ]
        }
      ]
    },
    {
      "cell_type": "markdown",
      "id": "3311f451",
      "metadata": {
        "id": "3311f451"
      },
      "source": [
        "### 3.2"
      ]
    },
    {
      "cell_type": "code",
      "execution_count": null,
      "id": "67458b41",
      "metadata": {
        "id": "67458b41",
        "outputId": "077d7331-85f1-4d8e-da26-7486fab4ddaf"
      },
      "outputs": [
        {
          "name": "stdout",
          "output_type": "stream",
          "text": [
            "Introduce la base imponible de la factura: 200\n"
          ]
        },
        {
          "ename": "NameError",
          "evalue": "name 'aplica_iva' is not defined",
          "output_type": "error",
          "traceback": [
            "\u001b[1;31m---------------------------------------------------------------------------\u001b[0m",
            "\u001b[1;31mNameError\u001b[0m                                 Traceback (most recent call last)",
            "\u001b[1;32m~\\AppData\\Local\\Temp/ipykernel_21556/3601789451.py\u001b[0m in \u001b[0;36m<module>\u001b[1;34m\u001b[0m\n\u001b[0;32m      1\u001b[0m \u001b[0mbase\u001b[0m \u001b[1;33m=\u001b[0m \u001b[0minput\u001b[0m\u001b[1;33m(\u001b[0m\u001b[1;34m'Introduce la base imponible de la factura: '\u001b[0m\u001b[1;33m)\u001b[0m\u001b[1;33m\u001b[0m\u001b[1;33m\u001b[0m\u001b[0m\n\u001b[1;32m----> 2\u001b[1;33m \u001b[0mprint\u001b[0m\u001b[1;33m(\u001b[0m\u001b[0maplica_iva\u001b[0m\u001b[1;33m(\u001b[0m\u001b[0mbase\u001b[0m\u001b[1;33m,\u001b[0m \u001b[0miva\u001b[0m\u001b[1;33m)\u001b[0m\u001b[1;33m)\u001b[0m\u001b[1;33m\u001b[0m\u001b[1;33m\u001b[0m\u001b[0m\n\u001b[0m\u001b[0;32m      3\u001b[0m \u001b[1;33m\u001b[0m\u001b[0m\n\u001b[0;32m      4\u001b[0m \u001b[1;32mdef\u001b[0m \u001b[0maplica_iva\u001b[0m\u001b[1;33m(\u001b[0m\u001b[0mbase\u001b[0m\u001b[1;33m,\u001b[0m \u001b[0miva\u001b[0m \u001b[1;33m=\u001b[0m \u001b[1;36m21\u001b[0m\u001b[1;33m)\u001b[0m\u001b[1;33m:\u001b[0m\u001b[1;33m\u001b[0m\u001b[1;33m\u001b[0m\u001b[0m\n\u001b[0;32m      5\u001b[0m     \u001b[0mbase\u001b[0m \u001b[1;33m=\u001b[0m \u001b[0mbase\u001b[0m \u001b[1;33m*\u001b[0m \u001b[0miva\u001b[0m\u001b[1;33m\u001b[0m\u001b[1;33m\u001b[0m\u001b[0m\n",
            "\u001b[1;31mNameError\u001b[0m: name 'aplica_iva' is not defined"
          ]
        }
      ],
      "source": [
        "base = input('Introduce la base imponible de la factura: ')\n",
        "print(aplica_iva(base, iva))\n",
        "\n",
        "def aplica_iva(base, iva = 21):\n",
        "    base = base * iva\n",
        "    return base"
      ]
    },
    {
      "cell_type": "code",
      "source": [
        "# Corrección de errores en la llamada a la función, mal definida la carga impositiva\n",
        "# Solicito la base imponible de la factura\n",
        "base = float(input('Introduce la base imponible de la factura: '))\n",
        "\n",
        "# Defino el aumento del IVA\n",
        "def aplica_iva(base, iva=21):\n",
        "    base_con_iva = base + base * iva / 100\n",
        "    return base_con_iva\n",
        "\n",
        "# Muestro el resultado\n",
        "print(aplica_iva(base))\n"
      ],
      "metadata": {
        "id": "_OS2iZwwReYB",
        "colab": {
          "base_uri": "https://localhost:8080/"
        },
        "outputId": "c6dfdf09-b71a-4e61-dca6-3b08d8472046"
      },
      "id": "_OS2iZwwReYB",
      "execution_count": 66,
      "outputs": [
        {
          "output_type": "stream",
          "name": "stdout",
          "text": [
            "Introduce la base imponible de la factura: 30\n",
            "36.3\n"
          ]
        }
      ]
    },
    {
      "cell_type": "markdown",
      "id": "7ba7523c",
      "metadata": {
        "id": "7ba7523c"
      },
      "source": [
        "### 3.3"
      ]
    },
    {
      "cell_type": "code",
      "execution_count": null,
      "id": "7802da60",
      "metadata": {
        "id": "7802da60",
        "outputId": "4574a105-7843-49b8-ff36-50cbd3438f78"
      },
      "outputs": [
        {
          "ename": "KeyError",
          "evalue": "'Pablo'",
          "output_type": "error",
          "traceback": [
            "\u001b[1;31m---------------------------------------------------------------------------\u001b[0m",
            "\u001b[1;31mKeyError\u001b[0m                                  Traceback (most recent call last)",
            "\u001b[1;32m~\\AppData\\Local\\Temp/ipykernel_21556/2209458513.py\u001b[0m in \u001b[0;36m<module>\u001b[1;34m\u001b[0m\n\u001b[0;32m      5\u001b[0m     \u001b[1;32mreturn\u001b[0m \u001b[0mlistin\u001b[0m\u001b[1;33m[\u001b[0m\u001b[0musuario\u001b[0m\u001b[1;33m]\u001b[0m\u001b[1;33m\u001b[0m\u001b[1;33m\u001b[0m\u001b[0m\n\u001b[0;32m      6\u001b[0m \u001b[1;33m\u001b[0m\u001b[0m\n\u001b[1;32m----> 7\u001b[1;33m \u001b[0mprint\u001b[0m\u001b[1;33m(\u001b[0m\u001b[0melimina\u001b[0m\u001b[1;33m(\u001b[0m\u001b[0mlistin\u001b[0m\u001b[1;33m,\u001b[0m \u001b[1;34m'Pablo'\u001b[0m\u001b[1;33m)\u001b[0m\u001b[1;33m)\u001b[0m\u001b[1;33m\u001b[0m\u001b[1;33m\u001b[0m\u001b[0m\n\u001b[0m",
            "\u001b[1;32m~\\AppData\\Local\\Temp/ipykernel_21556/2209458513.py\u001b[0m in \u001b[0;36melimina\u001b[1;34m(listin, usuario)\u001b[0m\n\u001b[0;32m      2\u001b[0m \u001b[1;33m\u001b[0m\u001b[0m\n\u001b[0;32m      3\u001b[0m \u001b[1;32mdef\u001b[0m \u001b[0melimina\u001b[0m\u001b[1;33m(\u001b[0m\u001b[0mlistin\u001b[0m\u001b[1;33m,\u001b[0m \u001b[0musuario\u001b[0m\u001b[1;33m)\u001b[0m\u001b[1;33m:\u001b[0m\u001b[1;33m\u001b[0m\u001b[1;33m\u001b[0m\u001b[0m\n\u001b[1;32m----> 4\u001b[1;33m     \u001b[1;32mdel\u001b[0m \u001b[0mlistin\u001b[0m\u001b[1;33m[\u001b[0m\u001b[0musuario\u001b[0m\u001b[1;33m]\u001b[0m\u001b[1;33m\u001b[0m\u001b[1;33m\u001b[0m\u001b[0m\n\u001b[0m\u001b[0;32m      5\u001b[0m     \u001b[1;32mreturn\u001b[0m \u001b[0mlistin\u001b[0m\u001b[1;33m[\u001b[0m\u001b[0musuario\u001b[0m\u001b[1;33m]\u001b[0m\u001b[1;33m\u001b[0m\u001b[1;33m\u001b[0m\u001b[0m\n\u001b[0;32m      6\u001b[0m \u001b[1;33m\u001b[0m\u001b[0m\n",
            "\u001b[1;31mKeyError\u001b[0m: 'Pablo'"
          ]
        }
      ],
      "source": [
        "listin = {'Juan':123456789, 'Pedro':987654321}\n",
        "\n",
        "def elimina(listin, usuario):\n",
        "    del listin[usuario]\n",
        "    return listin[usuario]\n",
        "\n",
        "print(elimina(listin, 'Pablo'))"
      ]
    },
    {
      "cell_type": "code",
      "source": [
        "# Corrección de errores en la eliminación de un elemento en el diccionario, falta condicional IF al eliminar\n",
        "listin = {'Juan': 123456789, 'Pedro': 987654321}\n",
        "\n",
        "def elimina(listin, usuario):\n",
        "    if usuario in listin:\n",
        "        del listin[usuario]\n",
        "        return listin\n",
        "    else:\n",
        "        return f\"{usuario} no está en el listín\"\n",
        "\n",
        "print(elimina(listin, 'Pablo'))"
      ],
      "metadata": {
        "id": "qesn11oWRgtg",
        "colab": {
          "base_uri": "https://localhost:8080/"
        },
        "outputId": "e3e53797-4a10-4e97-b4a5-19cf5a41e443"
      },
      "id": "qesn11oWRgtg",
      "execution_count": 67,
      "outputs": [
        {
          "output_type": "stream",
          "name": "stdout",
          "text": [
            "Pablo no está en el listín\n"
          ]
        }
      ]
    }
  ],
  "metadata": {
    "kernelspec": {
      "display_name": "Python 3 (ipykernel)",
      "language": "python",
      "name": "python3"
    },
    "language_info": {
      "codemirror_mode": {
        "name": "ipython",
        "version": 3
      },
      "file_extension": ".py",
      "mimetype": "text/x-python",
      "name": "python",
      "nbconvert_exporter": "python",
      "pygments_lexer": "ipython3",
      "version": "3.9.7"
    },
    "colab": {
      "provenance": []
    }
  },
  "nbformat": 4,
  "nbformat_minor": 5
}